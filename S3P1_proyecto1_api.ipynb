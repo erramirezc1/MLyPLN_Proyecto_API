{
 "cells": [
  {
   "cell_type": "markdown",
   "metadata": {
    "id": "l0F200N-wqO3"
   },
   "source": [
    "![image info](https://raw.githubusercontent.com/davidzarruk/MIAD_ML_NLP_2023/main/images/banner_1.png)"
   ]
  },
  {
   "cell_type": "markdown",
   "metadata": {
    "id": "w75FGynzwqO3"
   },
   "source": [
    "# Proyecto 1 - Predicción de popularidad en canción\n",
    "\n",
    "En este proyecto podrán poner en práctica sus conocimientos sobre modelos predictivos basados en árboles y ensambles, y sobre la disponibilización de modelos. Para su desarrollo tengan en cuenta las instrucciones dadas en la \"Guía del proyecto 1: Predicción de popularidad en canción\".\n",
    "\n",
    "**Entrega**: La entrega del proyecto deberán realizarla durante la semana 4. Sin embargo, es importante que avancen en la semana 3 en el modelado del problema y en parte del informe, tal y como se les indicó en la guía.\n",
    "\n",
    "Para hacer la entrega, deberán adjuntar el informe autocontenido en PDF a la actividad de entrega del proyecto que encontrarán en la semana 4, y subir el archivo de predicciones a la [competencia de Kaggle](https://www.kaggle.com/competitions/miad-2025-12-prediccion-popularidad-en-cancion)."
   ]
  },
  {
   "cell_type": "markdown",
   "metadata": {
    "id": "aiB84TdJwqO4"
   },
   "source": [
    "## Datos para la predicción de popularidad en cancion\n",
    "\n",
    "En este proyecto se usará el conjunto de datos de datos de popularidad en canciones, donde cada observación representa una canción y se tienen variables como: duración de la canción, acusticidad y tempo, entre otras. El objetivo es predecir qué tan popular es la canción. Para más detalles puede visitar el siguiente enlace: [datos](https://huggingface.co/datasets/maharshipandya/spotify-tracks-dataset)."
   ]
  },
  {
   "cell_type": "markdown",
   "metadata": {
    "id": "LuzQAykBwqO4"
   },
   "source": [
    "## Ejemplo predicción conjunto de test para envío a Kaggle\n",
    "\n",
    "En esta sección encontrarán el formato en el que deben guardar los resultados de la predicción para que puedan subirlos a la competencia en Kaggle."
   ]
  },
  {
   "cell_type": "code",
   "execution_count": 1,
   "metadata": {
    "executionInfo": {
     "elapsed": 7,
     "status": "ok",
     "timestamp": 1744039049283,
     "user": {
      "displayName": "Ana Maria Quintero",
      "userId": "04369708050989259997"
     },
     "user_tz": 300
    },
    "id": "5WHlajVlwqO4"
   },
   "outputs": [],
   "source": [
    "import warnings\n",
    "warnings.filterwarnings('ignore')"
   ]
  },
  {
   "cell_type": "code",
   "execution_count": 2,
   "metadata": {
    "executionInfo": {
     "elapsed": 951,
     "status": "ok",
     "timestamp": 1744039050240,
     "user": {
      "displayName": "Ana Maria Quintero",
      "userId": "04369708050989259997"
     },
     "user_tz": 300
    },
    "id": "6wjRyxQWwqO5"
   },
   "outputs": [],
   "source": [
    "# Importación librerías\n",
    "import pandas as pd\n",
    "import numpy as np"
   ]
  },
  {
   "cell_type": "code",
   "execution_count": 3,
   "metadata": {
    "executionInfo": {
     "elapsed": 1454,
     "status": "ok",
     "timestamp": 1744039599021,
     "user": {
      "displayName": "Ana Maria Quintero",
      "userId": "04369708050989259997"
     },
     "user_tz": 300
    },
    "id": "POuKslmYwqO5"
   },
   "outputs": [],
   "source": [
    "# Carga de datos de archivo .csv\n",
    "dataTraining = pd.read_csv('https://raw.githubusercontent.com/davidzarruk/MIAD_ML_NLP_2025/main/datasets/dataTrain_Spotify.csv')\n",
    "dataTesting = pd.read_csv('https://raw.githubusercontent.com/davidzarruk/MIAD_ML_NLP_2025/main/datasets/dataTest_Spotify.csv', index_col=0)"
   ]
  },
  {
   "cell_type": "code",
   "execution_count": 4,
   "metadata": {
    "id": "oZm8t9NBwqO5"
   },
   "outputs": [
    {
     "data": {
      "text/html": [
       "<div>\n",
       "<style scoped>\n",
       "    .dataframe tbody tr th:only-of-type {\n",
       "        vertical-align: middle;\n",
       "    }\n",
       "\n",
       "    .dataframe tbody tr th {\n",
       "        vertical-align: top;\n",
       "    }\n",
       "\n",
       "    .dataframe thead th {\n",
       "        text-align: right;\n",
       "    }\n",
       "</style>\n",
       "<table border=\"1\" class=\"dataframe\">\n",
       "  <thead>\n",
       "    <tr style=\"text-align: right;\">\n",
       "      <th></th>\n",
       "      <th>Unnamed: 0</th>\n",
       "      <th>track_id</th>\n",
       "      <th>artists</th>\n",
       "      <th>album_name</th>\n",
       "      <th>track_name</th>\n",
       "      <th>duration_ms</th>\n",
       "      <th>explicit</th>\n",
       "      <th>danceability</th>\n",
       "      <th>energy</th>\n",
       "      <th>key</th>\n",
       "      <th>...</th>\n",
       "      <th>mode</th>\n",
       "      <th>speechiness</th>\n",
       "      <th>acousticness</th>\n",
       "      <th>instrumentalness</th>\n",
       "      <th>liveness</th>\n",
       "      <th>valence</th>\n",
       "      <th>tempo</th>\n",
       "      <th>time_signature</th>\n",
       "      <th>track_genre</th>\n",
       "      <th>popularity</th>\n",
       "    </tr>\n",
       "  </thead>\n",
       "  <tbody>\n",
       "    <tr>\n",
       "      <th>0</th>\n",
       "      <td>0</td>\n",
       "      <td>7hUhmkALyQ8SX9mJs5XI3D</td>\n",
       "      <td>Love and Rockets</td>\n",
       "      <td>Love and Rockets</td>\n",
       "      <td>Motorcycle</td>\n",
       "      <td>211533</td>\n",
       "      <td>False</td>\n",
       "      <td>0.305</td>\n",
       "      <td>0.8490</td>\n",
       "      <td>9</td>\n",
       "      <td>...</td>\n",
       "      <td>1</td>\n",
       "      <td>0.0549</td>\n",
       "      <td>0.000058</td>\n",
       "      <td>0.056700</td>\n",
       "      <td>0.4640</td>\n",
       "      <td>0.3200</td>\n",
       "      <td>141.793</td>\n",
       "      <td>4</td>\n",
       "      <td>goth</td>\n",
       "      <td>22</td>\n",
       "    </tr>\n",
       "    <tr>\n",
       "      <th>1</th>\n",
       "      <td>1</td>\n",
       "      <td>5x59U89ZnjZXuNAAlc8X1u</td>\n",
       "      <td>Filippa Giordano</td>\n",
       "      <td>Filippa Giordano</td>\n",
       "      <td>Addio del passato - From \"La traviata\"</td>\n",
       "      <td>196000</td>\n",
       "      <td>False</td>\n",
       "      <td>0.287</td>\n",
       "      <td>0.1900</td>\n",
       "      <td>7</td>\n",
       "      <td>...</td>\n",
       "      <td>0</td>\n",
       "      <td>0.0370</td>\n",
       "      <td>0.930000</td>\n",
       "      <td>0.000356</td>\n",
       "      <td>0.0834</td>\n",
       "      <td>0.1330</td>\n",
       "      <td>83.685</td>\n",
       "      <td>4</td>\n",
       "      <td>opera</td>\n",
       "      <td>22</td>\n",
       "    </tr>\n",
       "    <tr>\n",
       "      <th>2</th>\n",
       "      <td>2</td>\n",
       "      <td>70Vng5jLzoJLmeLu3ayBQq</td>\n",
       "      <td>Susumu Yokota</td>\n",
       "      <td>Symbol</td>\n",
       "      <td>Purple Rose Minuet</td>\n",
       "      <td>216506</td>\n",
       "      <td>False</td>\n",
       "      <td>0.583</td>\n",
       "      <td>0.5090</td>\n",
       "      <td>1</td>\n",
       "      <td>...</td>\n",
       "      <td>1</td>\n",
       "      <td>0.0362</td>\n",
       "      <td>0.777000</td>\n",
       "      <td>0.202000</td>\n",
       "      <td>0.1150</td>\n",
       "      <td>0.5440</td>\n",
       "      <td>90.459</td>\n",
       "      <td>3</td>\n",
       "      <td>idm</td>\n",
       "      <td>37</td>\n",
       "    </tr>\n",
       "    <tr>\n",
       "      <th>3</th>\n",
       "      <td>3</td>\n",
       "      <td>1cRfzLJapgtwJ61xszs37b</td>\n",
       "      <td>Franz Liszt;YUNDI</td>\n",
       "      <td>Relajación y siestas</td>\n",
       "      <td>Liebeslied (Widmung), S. 566</td>\n",
       "      <td>218346</td>\n",
       "      <td>False</td>\n",
       "      <td>0.163</td>\n",
       "      <td>0.0368</td>\n",
       "      <td>8</td>\n",
       "      <td>...</td>\n",
       "      <td>1</td>\n",
       "      <td>0.0472</td>\n",
       "      <td>0.991000</td>\n",
       "      <td>0.899000</td>\n",
       "      <td>0.1070</td>\n",
       "      <td>0.0387</td>\n",
       "      <td>69.442</td>\n",
       "      <td>3</td>\n",
       "      <td>classical</td>\n",
       "      <td>0</td>\n",
       "    </tr>\n",
       "    <tr>\n",
       "      <th>4</th>\n",
       "      <td>4</td>\n",
       "      <td>47d5lYjbiMy0EdMRV8lRou</td>\n",
       "      <td>Scooter</td>\n",
       "      <td>Scooter Forever</td>\n",
       "      <td>The Darkside</td>\n",
       "      <td>173160</td>\n",
       "      <td>False</td>\n",
       "      <td>0.647</td>\n",
       "      <td>0.9210</td>\n",
       "      <td>2</td>\n",
       "      <td>...</td>\n",
       "      <td>1</td>\n",
       "      <td>0.1850</td>\n",
       "      <td>0.000939</td>\n",
       "      <td>0.371000</td>\n",
       "      <td>0.1310</td>\n",
       "      <td>0.1710</td>\n",
       "      <td>137.981</td>\n",
       "      <td>4</td>\n",
       "      <td>techno</td>\n",
       "      <td>27</td>\n",
       "    </tr>\n",
       "  </tbody>\n",
       "</table>\n",
       "<p>5 rows × 21 columns</p>\n",
       "</div>"
      ],
      "text/plain": [
       "   Unnamed: 0                track_id            artists  \\\n",
       "0           0  7hUhmkALyQ8SX9mJs5XI3D   Love and Rockets   \n",
       "1           1  5x59U89ZnjZXuNAAlc8X1u   Filippa Giordano   \n",
       "2           2  70Vng5jLzoJLmeLu3ayBQq      Susumu Yokota   \n",
       "3           3  1cRfzLJapgtwJ61xszs37b  Franz Liszt;YUNDI   \n",
       "4           4  47d5lYjbiMy0EdMRV8lRou            Scooter   \n",
       "\n",
       "             album_name                              track_name  duration_ms  \\\n",
       "0      Love and Rockets                              Motorcycle       211533   \n",
       "1      Filippa Giordano  Addio del passato - From \"La traviata\"       196000   \n",
       "2                Symbol                      Purple Rose Minuet       216506   \n",
       "3  Relajación y siestas            Liebeslied (Widmung), S. 566       218346   \n",
       "4       Scooter Forever                            The Darkside       173160   \n",
       "\n",
       "   explicit  danceability  energy  key  ...  mode  speechiness  acousticness  \\\n",
       "0     False         0.305  0.8490    9  ...     1       0.0549      0.000058   \n",
       "1     False         0.287  0.1900    7  ...     0       0.0370      0.930000   \n",
       "2     False         0.583  0.5090    1  ...     1       0.0362      0.777000   \n",
       "3     False         0.163  0.0368    8  ...     1       0.0472      0.991000   \n",
       "4     False         0.647  0.9210    2  ...     1       0.1850      0.000939   \n",
       "\n",
       "   instrumentalness  liveness  valence    tempo  time_signature  track_genre  \\\n",
       "0          0.056700    0.4640   0.3200  141.793               4         goth   \n",
       "1          0.000356    0.0834   0.1330   83.685               4        opera   \n",
       "2          0.202000    0.1150   0.5440   90.459               3          idm   \n",
       "3          0.899000    0.1070   0.0387   69.442               3    classical   \n",
       "4          0.371000    0.1310   0.1710  137.981               4       techno   \n",
       "\n",
       "  popularity  \n",
       "0         22  \n",
       "1         22  \n",
       "2         37  \n",
       "3          0  \n",
       "4         27  \n",
       "\n",
       "[5 rows x 21 columns]"
      ]
     },
     "execution_count": 4,
     "metadata": {},
     "output_type": "execute_result"
    }
   ],
   "source": [
    "# Visualización datos de entrenamiento\n",
    "dataTraining.head()"
   ]
  },
  {
   "cell_type": "code",
   "execution_count": 5,
   "metadata": {
    "id": "vbrTQFErwqO5"
   },
   "outputs": [
    {
     "data": {
      "text/html": [
       "<div>\n",
       "<style scoped>\n",
       "    .dataframe tbody tr th:only-of-type {\n",
       "        vertical-align: middle;\n",
       "    }\n",
       "\n",
       "    .dataframe tbody tr th {\n",
       "        vertical-align: top;\n",
       "    }\n",
       "\n",
       "    .dataframe thead th {\n",
       "        text-align: right;\n",
       "    }\n",
       "</style>\n",
       "<table border=\"1\" class=\"dataframe\">\n",
       "  <thead>\n",
       "    <tr style=\"text-align: right;\">\n",
       "      <th></th>\n",
       "      <th>track_id</th>\n",
       "      <th>artists</th>\n",
       "      <th>album_name</th>\n",
       "      <th>track_name</th>\n",
       "      <th>duration_ms</th>\n",
       "      <th>explicit</th>\n",
       "      <th>danceability</th>\n",
       "      <th>energy</th>\n",
       "      <th>key</th>\n",
       "      <th>loudness</th>\n",
       "      <th>mode</th>\n",
       "      <th>speechiness</th>\n",
       "      <th>acousticness</th>\n",
       "      <th>instrumentalness</th>\n",
       "      <th>liveness</th>\n",
       "      <th>valence</th>\n",
       "      <th>tempo</th>\n",
       "      <th>time_signature</th>\n",
       "      <th>track_genre</th>\n",
       "    </tr>\n",
       "  </thead>\n",
       "  <tbody>\n",
       "    <tr>\n",
       "      <th>0</th>\n",
       "      <td>6KwkVtXm8OUp2XffN5k7lY</td>\n",
       "      <td>Hillsong Worship</td>\n",
       "      <td>No Other Name</td>\n",
       "      <td>No Other Name</td>\n",
       "      <td>440247</td>\n",
       "      <td>False</td>\n",
       "      <td>0.369</td>\n",
       "      <td>0.598</td>\n",
       "      <td>7</td>\n",
       "      <td>-6.984</td>\n",
       "      <td>1</td>\n",
       "      <td>0.0304</td>\n",
       "      <td>0.00511</td>\n",
       "      <td>0.000000</td>\n",
       "      <td>0.176</td>\n",
       "      <td>0.0466</td>\n",
       "      <td>148.014</td>\n",
       "      <td>4</td>\n",
       "      <td>world-music</td>\n",
       "    </tr>\n",
       "    <tr>\n",
       "      <th>1</th>\n",
       "      <td>2dp5I5MJ8bQQHDoFaNRFtX</td>\n",
       "      <td>Internal Rot</td>\n",
       "      <td>Grieving Birth</td>\n",
       "      <td>Failed Organum</td>\n",
       "      <td>93933</td>\n",
       "      <td>False</td>\n",
       "      <td>0.171</td>\n",
       "      <td>0.997</td>\n",
       "      <td>7</td>\n",
       "      <td>-3.586</td>\n",
       "      <td>1</td>\n",
       "      <td>0.1180</td>\n",
       "      <td>0.00521</td>\n",
       "      <td>0.801000</td>\n",
       "      <td>0.420</td>\n",
       "      <td>0.0294</td>\n",
       "      <td>122.223</td>\n",
       "      <td>4</td>\n",
       "      <td>grindcore</td>\n",
       "    </tr>\n",
       "    <tr>\n",
       "      <th>2</th>\n",
       "      <td>5avw06usmFkFrPjX8NxC40</td>\n",
       "      <td>Zhoobin Askarieh;Ali Sasha</td>\n",
       "      <td>Noise A Noise 20.4-1</td>\n",
       "      <td>Save the Trees, Pt. 1</td>\n",
       "      <td>213578</td>\n",
       "      <td>False</td>\n",
       "      <td>0.173</td>\n",
       "      <td>0.803</td>\n",
       "      <td>9</td>\n",
       "      <td>-10.071</td>\n",
       "      <td>0</td>\n",
       "      <td>0.1440</td>\n",
       "      <td>0.61300</td>\n",
       "      <td>0.001910</td>\n",
       "      <td>0.195</td>\n",
       "      <td>0.0887</td>\n",
       "      <td>75.564</td>\n",
       "      <td>3</td>\n",
       "      <td>iranian</td>\n",
       "    </tr>\n",
       "    <tr>\n",
       "      <th>3</th>\n",
       "      <td>75hT0hvlESnDJstem0JgyR</td>\n",
       "      <td>Bryan Adams</td>\n",
       "      <td>All I Want For Christmas Is You</td>\n",
       "      <td>Merry Christmas</td>\n",
       "      <td>151387</td>\n",
       "      <td>False</td>\n",
       "      <td>0.683</td>\n",
       "      <td>0.511</td>\n",
       "      <td>6</td>\n",
       "      <td>-5.598</td>\n",
       "      <td>1</td>\n",
       "      <td>0.0279</td>\n",
       "      <td>0.40600</td>\n",
       "      <td>0.000197</td>\n",
       "      <td>0.111</td>\n",
       "      <td>0.5980</td>\n",
       "      <td>109.991</td>\n",
       "      <td>3</td>\n",
       "      <td>rock</td>\n",
       "    </tr>\n",
       "    <tr>\n",
       "      <th>4</th>\n",
       "      <td>4bY2oZGA5Br3pTE1Jd1IfY</td>\n",
       "      <td>Nogizaka46</td>\n",
       "      <td>バレッタ TypeD</td>\n",
       "      <td>月の大きさ</td>\n",
       "      <td>236293</td>\n",
       "      <td>False</td>\n",
       "      <td>0.555</td>\n",
       "      <td>0.941</td>\n",
       "      <td>9</td>\n",
       "      <td>-3.294</td>\n",
       "      <td>0</td>\n",
       "      <td>0.0481</td>\n",
       "      <td>0.48400</td>\n",
       "      <td>0.000000</td>\n",
       "      <td>0.266</td>\n",
       "      <td>0.8130</td>\n",
       "      <td>92.487</td>\n",
       "      <td>4</td>\n",
       "      <td>j-idol</td>\n",
       "    </tr>\n",
       "  </tbody>\n",
       "</table>\n",
       "</div>"
      ],
      "text/plain": [
       "                 track_id                     artists  \\\n",
       "0  6KwkVtXm8OUp2XffN5k7lY            Hillsong Worship   \n",
       "1  2dp5I5MJ8bQQHDoFaNRFtX                Internal Rot   \n",
       "2  5avw06usmFkFrPjX8NxC40  Zhoobin Askarieh;Ali Sasha   \n",
       "3  75hT0hvlESnDJstem0JgyR                 Bryan Adams   \n",
       "4  4bY2oZGA5Br3pTE1Jd1IfY                  Nogizaka46   \n",
       "\n",
       "                        album_name             track_name  duration_ms  \\\n",
       "0                    No Other Name          No Other Name       440247   \n",
       "1                   Grieving Birth         Failed Organum        93933   \n",
       "2             Noise A Noise 20.4-1  Save the Trees, Pt. 1       213578   \n",
       "3  All I Want For Christmas Is You        Merry Christmas       151387   \n",
       "4                       バレッタ TypeD                  月の大きさ       236293   \n",
       "\n",
       "   explicit  danceability  energy  key  loudness  mode  speechiness  \\\n",
       "0     False         0.369   0.598    7    -6.984     1       0.0304   \n",
       "1     False         0.171   0.997    7    -3.586     1       0.1180   \n",
       "2     False         0.173   0.803    9   -10.071     0       0.1440   \n",
       "3     False         0.683   0.511    6    -5.598     1       0.0279   \n",
       "4     False         0.555   0.941    9    -3.294     0       0.0481   \n",
       "\n",
       "   acousticness  instrumentalness  liveness  valence    tempo  time_signature  \\\n",
       "0       0.00511          0.000000     0.176   0.0466  148.014               4   \n",
       "1       0.00521          0.801000     0.420   0.0294  122.223               4   \n",
       "2       0.61300          0.001910     0.195   0.0887   75.564               3   \n",
       "3       0.40600          0.000197     0.111   0.5980  109.991               3   \n",
       "4       0.48400          0.000000     0.266   0.8130   92.487               4   \n",
       "\n",
       "   track_genre  \n",
       "0  world-music  \n",
       "1    grindcore  \n",
       "2      iranian  \n",
       "3         rock  \n",
       "4       j-idol  "
      ]
     },
     "execution_count": 5,
     "metadata": {},
     "output_type": "execute_result"
    }
   ],
   "source": [
    "# Visualización datos de test\n",
    "dataTesting.head()"
   ]
  },
  {
   "cell_type": "code",
   "execution_count": 6,
   "metadata": {
    "executionInfo": {
     "elapsed": 2,
     "status": "ok",
     "timestamp": 1744044980160,
     "user": {
      "displayName": "Ana Maria Quintero",
      "userId": "04369708050989259997"
     },
     "user_tz": 300
    },
    "id": "5ly6bRwFwqO5"
   },
   "outputs": [],
   "source": [
    "# Predicción del conjunto de test - acá se genera un número aleatorio como ejemplo\n",
    "np.random.seed(42)\n",
    "y_pred = pd.DataFrame(np.random.rand(dataTesting.shape[0]) * 100, index=dataTesting.index, columns=['Popularity'])"
   ]
  },
  {
   "cell_type": "code",
   "execution_count": 7,
   "metadata": {
    "id": "U8sZll9owqO5"
   },
   "outputs": [
    {
     "data": {
      "text/html": [
       "<div>\n",
       "<style scoped>\n",
       "    .dataframe tbody tr th:only-of-type {\n",
       "        vertical-align: middle;\n",
       "    }\n",
       "\n",
       "    .dataframe tbody tr th {\n",
       "        vertical-align: top;\n",
       "    }\n",
       "\n",
       "    .dataframe thead th {\n",
       "        text-align: right;\n",
       "    }\n",
       "</style>\n",
       "<table border=\"1\" class=\"dataframe\">\n",
       "  <thead>\n",
       "    <tr style=\"text-align: right;\">\n",
       "      <th></th>\n",
       "      <th>Popularity</th>\n",
       "    </tr>\n",
       "  </thead>\n",
       "  <tbody>\n",
       "    <tr>\n",
       "      <th>0</th>\n",
       "      <td>37.454012</td>\n",
       "    </tr>\n",
       "    <tr>\n",
       "      <th>1</th>\n",
       "      <td>95.071431</td>\n",
       "    </tr>\n",
       "    <tr>\n",
       "      <th>2</th>\n",
       "      <td>73.199394</td>\n",
       "    </tr>\n",
       "    <tr>\n",
       "      <th>3</th>\n",
       "      <td>59.865848</td>\n",
       "    </tr>\n",
       "    <tr>\n",
       "      <th>4</th>\n",
       "      <td>15.601864</td>\n",
       "    </tr>\n",
       "  </tbody>\n",
       "</table>\n",
       "</div>"
      ],
      "text/plain": [
       "   Popularity\n",
       "0   37.454012\n",
       "1   95.071431\n",
       "2   73.199394\n",
       "3   59.865848\n",
       "4   15.601864"
      ]
     },
     "execution_count": 7,
     "metadata": {},
     "output_type": "execute_result"
    }
   ],
   "source": [
    "# Guardar predicciones en formato exigido en la competencia de kaggle\n",
    "y_pred.to_csv('test_submission_file.csv', index_label='ID')\n",
    "y_pred.head()"
   ]
  },
  {
   "cell_type": "markdown",
   "metadata": {},
   "source": [
    "### Entrenamiento del modelo"
   ]
  },
  {
   "cell_type": "code",
   "execution_count": 8,
   "metadata": {},
   "outputs": [
    {
     "name": "stdout",
     "output_type": "stream",
     "text": [
      "Resultados de la Validación Cruzada (RMSE para cada fold): [22.2167528  22.37016576 22.26925383 22.36043186 22.33100541]\n",
      "RMSE Promedio: 22.3095\n",
      "Desviación Estándar del RMSE: 0.0582\n",
      "\n",
      "Entrenando el modelo final con todos los datos de entrenamiento...\n",
      "Modelo final para predecir 'popularity' entrenado con las columnas 'duration_ms', 'explicit' y 'track_genre'.\n",
      "Intercepto del modelo final: 33.24792128293453\n",
      "Número de coeficientes del modelo final: 2\n"
     ]
    }
   ],
   "source": [
    "# Seleccionar las columnas requeridas del DataFrame de entrenamiento\n",
    "columnas_seleccionadas = ['duration_ms', 'explicit', 'popularity']\n",
    "data_entrenamiento_subset = dataTraining[columnas_seleccionadas].copy()\n",
    "\n",
    "# Preprocesar los datos\n",
    "# Convertir la columna 'explicit' (booleana) a numérica (0 o 1)\n",
    "data_entrenamiento_subset['explicit'] = data_entrenamiento_subset['explicit'].astype(int)\n",
    "\n",
    "\n",
    "# Separar las características (variables independientes X) y la variable objetivo (y)\n",
    "X = data_entrenamiento_subset.drop('popularity', axis=1)\n",
    "y = data_entrenamiento_subset['popularity']\n",
    "\n",
    "# Importar las clases y funciones necesarias\n",
    "from sklearn.linear_model import LinearRegression\n",
    "from sklearn.model_selection import cross_val_score, KFold\n",
    "import numpy as np # Necesario para calcular la media y desviación estándar\n",
    "\n",
    "# Crear una instancia del modelo\n",
    "modelo_popularidad = LinearRegression()\n",
    "\n",
    "# Definir la estrategia de validación cruzada (K-Fold con 5 divisiones)\n",
    "# shuffle=True asegura que los datos se mezclen antes de dividirlos\n",
    "# random_state asegura la reproducibilidad de la mezcla\n",
    "cv = KFold(n_splits=5, shuffle=True, random_state=42)\n",
    "\n",
    "# Realizar la validación cruzada\n",
    "# Usamos 'neg_mean_squared_error' como métrica. Scikit-learn maximiza, por eso usamos el negativo del MSE.\n",
    "# También podríamos usar 'r2' para el coeficiente de determinación.\n",
    "scores_mse = cross_val_score(modelo_popularidad, X, y, cv=cv, scoring='neg_mean_squared_error')\n",
    "\n",
    "# Convertir los scores negativos de MSE a positivos y calcular la raíz (RMSE) para mejor interpretación\n",
    "scores_rmse = np.sqrt(-scores_mse)\n",
    "\n",
    "# Imprimir los resultados de la validación cruzada\n",
    "print(f\"Resultados de la Validación Cruzada (RMSE para cada fold): {scores_rmse}\")\n",
    "print(f\"RMSE Promedio: {scores_rmse.mean():.4f}\")\n",
    "print(f\"Desviación Estándar del RMSE: {scores_rmse.std():.4f}\")\n",
    "\n",
    "# --- Entrenamiento final del modelo en TODO el conjunto de entrenamiento ---\n",
    "# Después de evaluar el rendimiento con validación cruzada, entrenamos el modelo final\n",
    "# con todos los datos de entrenamiento disponibles (X, y) para hacer predicciones futuras.\n",
    "print(\"\\nEntrenando el modelo final con todos los datos de entrenamiento...\")\n",
    "modelo_popularidad.fit(X, y)\n",
    "\n",
    "# El objeto 'modelo_popularidad' ahora contiene el modelo entrenado con todos los datos.\n",
    "print(\"Modelo final para predecir 'popularity' entrenado con las columnas 'duration_ms', 'explicit' y 'track_genre'.\")\n",
    "\n",
    "# Opcional: ver el intercepto o los coeficientes del modelo final entrenado\n",
    "print(f\"Intercepto del modelo final: {modelo_popularidad.intercept_}\")\n",
    "print(f\"Número de coeficientes del modelo final: {len(modelo_popularidad.coef_)}\")\n"
   ]
  },
  {
   "cell_type": "code",
   "execution_count": null,
   "metadata": {},
   "outputs": [],
   "source": [
    "# 1. Seleccionar las mismas columnas de dataTesting que se usaron para entrenar\n",
    "columnas_requeridas_test = ['duration_ms', 'explicit']\n",
    "# Asegurarse de que las columnas existen en dataTesting antes de seleccionarlas\n",
    "columnas_existentes_test = [col for col in columnas_requeridas_test if col in dataTesting.columns]\n",
    "# Verificar si dataTesting existe y tiene las columnas antes de proceder\n",
    "if 'dataTesting' in locals() and all(col in dataTesting.columns for col in columnas_existentes_test):\n",
    "    data_testing_subset = dataTesting[columnas_existentes_test].copy()\n",
    "\n",
    "    # 2. Preprocesar dataTesting de la misma manera que dataTraining\n",
    "    # Convertir 'explicit' a numérica (si existe)\n",
    "    if 'explicit' in data_testing_subset.columns:\n",
    "        # Asegurarse de que 'explicit' no contenga valores no convertibles (como NaN) antes de convertir\n",
    "        # Podríamos rellenar NaNs o eliminar filas si es necesario, aquí asumimos que está limpio o la conversión maneja errores\n",
    "        try:\n",
    "            data_testing_subset['explicit'] = data_testing_subset['explicit'].fillna(0).astype(int) # Rellenar NaN con 0 como ejemplo\n",
    "        except Exception as e:\n",
    "            print(f\"Error al convertir 'explicit' a int: {e}\")\n",
    "            # Considerar cómo manejar este error, por ejemplo, deteniendo la ejecución o usando un valor por defecto\n",
    "\n",
    "    # Aplicar One-Hot Encoding a 'track_genre' (si existe)\n",
    "    if 'track_genre' in data_testing_subset.columns:\n",
    "        # Asegurarse de que 'track_genre' no tenga NaNs si get_dummies no los maneja como se desea\n",
    "        data_testing_subset['track_genre'] = data_testing_subset['track_genre'].fillna('unknown') # Rellenar NaN con 'unknown' como ejemplo\n",
    "        data_testing_subset_processed = pd.get_dummies(data_testing_subset, columns=['track_genre'], drop_first=True)\n",
    "    else:\n",
    "        data_testing_subset_processed = data_testing_subset # Si no hay 'track_genre', usar el subset tal cual\n",
    "\n",
    "    # 3. Alinear las columnas de dataTesting preprocesado con las columnas usadas en el entrenamiento (X.columns)\n",
    "    # Esto asegura que el DataFrame para predicción tenga exactamente las mismas columnas,\n",
    "    # en el mismo orden, que las usadas para entrenar el modelo.\n",
    "    # Las columnas que falten en dataTesting (porque ciertos géneros no estaban presentes) se añadirán con valor 0.\n",
    "    # Las columnas presentes en dataTesting pero no en el entrenamiento (si las hubiera) se eliminarán.\n",
    "    # Asegurarse de que 'X' existe y tiene las columnas esperadas\n",
    "    if 'X' in locals() and hasattr(X, 'columns'):\n",
    "        data_testing_subset_aligned = data_testing_subset_processed.reindex(columns=X.columns, fill_value=0)\n",
    "\n",
    "        # 4. Realizar predicciones usando el modelo entrenado 'modelo_popularidad'\n",
    "        # Asegurarse de que 'modelo_popularidad' existe y está entrenado\n",
    "        if 'modelo_popularidad' in locals():\n",
    "            predicciones_popularidad = modelo_popularidad.predict(data_testing_subset_aligned)\n",
    "\n",
    "            # 5. Crear un DataFrame para almacenar las predicciones\n",
    "            # Es buena práctica usar el índice original de dataTesting para facilitar la correspondencia\n",
    "            predicciones_df = pd.DataFrame(predicciones_popularidad, index=dataTesting.index, columns=['Popularity']) # Cambiado nombre de columna para coincidir con output celda 11\n",
    "\n",
    "            # 6. Mostrar las primeras filas de las predicciones\n",
    "            print(\"Predicciones de popularidad para el conjunto de prueba (dataTesting):\")\n",
    "            print(predicciones_df.head())\n",
    "\n",
    "            # Opcional: Si deseas guardar estas predicciones en un nuevo archivo CSV\n",
    "            # Comentado para evitar PermissionError observado en la salida de la celda 13\n",
    "            try:\n",
    "                predicciones_df.to_csv('test_submission_linear_model_V2.csv', index_label='ID')\n",
    "                print(\"Predicciones guardadas en 'test_submission_linear_model_V2.csv'\")\n",
    "            except PermissionError as e:\n",
    "                print(f\"Error de permiso al guardar el archivo CSV: {e}\")\n",
    "                print(\"Asegúrate de tener permisos de escritura en el directorio actual o especifica una ruta diferente.\")\n",
    "            except Exception as e:\n",
    "                print(f\"Ocurrió un error inesperado al guardar el archivo CSV: {e}\")\n",
    "        else:\n",
    "            print(\"Error: El modelo 'modelo_popularidad' no está definido o entrenado.\")\n",
    "    else:\n",
    "        print(\"Error: El DataFrame de entrenamiento 'X' no está definido o no tiene columnas.\")\n",
    "else:\n",
    "    print(\"Error: El DataFrame 'dataTesting' no está definido o no contiene las columnas requeridas.\")\n"
   ]
  },
  {
   "cell_type": "markdown",
   "metadata": {},
   "source": [
    "### Test de ejecución en notebook"
   ]
  },
  {
   "cell_type": "code",
   "execution_count": 9,
   "metadata": {},
   "outputs": [
    {
     "name": "stdout",
     "output_type": "stream",
     "text": [
      "Predicción de popularidad para la canción:\n",
      "[32.94328768]\n"
     ]
    }
   ],
   "source": [
    "duration_ms = 250505\n",
    "explicit = 0\n",
    "\n",
    "# Crear un DataFrame con los datos de entrada\n",
    "input_data = pd.DataFrame({\n",
    "    'duration_ms': [duration_ms],\n",
    "    'explicit': [explicit],\n",
    "})\n",
    "\n",
    "# Realizar la predicción con el modelo usando los tres datos\n",
    "prediccion_popularidad = modelo_popularidad.predict(input_data)\n",
    "\n",
    "print(\"Predicción de popularidad para la canción:\")\n",
    "print(prediccion_popularidad)"
   ]
  },
  {
   "cell_type": "markdown",
   "metadata": {},
   "source": [
    "### Guardamos el modelo en archivo pkl"
   ]
  },
  {
   "cell_type": "code",
   "execution_count": 10,
   "metadata": {},
   "outputs": [
    {
     "name": "stdout",
     "output_type": "stream",
     "text": [
      "Modelo guardado exitosamente en model_deployment\\modelo_popularidad.pkl\n"
     ]
    }
   ],
   "source": [
    "import os  # Importar el módulo os para manejar rutas y directorios\n",
    "import joblib  # Usaremos joblib para guardar el modelo y las columnas\n",
    "\n",
    "# Definir el directorio donde se guardarán los archivos\n",
    "directorio_destino = 'model_deployment'\n",
    "# Definir los nombres de los archivos\n",
    "nombre_archivo_modelo = 'modelo_popularidad.pkl'\n",
    "# Construir las rutas completas a los archivos\n",
    "ruta_completa_modelo = os.path.join(directorio_destino, nombre_archivo_modelo)\n",
    "\n",
    "# Asegurarse de que el directorio de destino exista, si no, crearlo\n",
    "os.makedirs(directorio_destino, exist_ok=True)\n",
    "\n",
    "# Guardar el modelo en el archivo especificado usando joblib\n",
    "joblib.dump(modelo_popularidad, ruta_completa_modelo)\n",
    "\n",
    "print(f\"Modelo guardado exitosamente en {ruta_completa_modelo}\")\n"
   ]
  },
  {
   "cell_type": "markdown",
   "metadata": {},
   "source": [
    "### Prueba del modelo llamando el archivo pkl"
   ]
  },
  {
   "cell_type": "code",
   "execution_count": 11,
   "metadata": {},
   "outputs": [
    {
     "data": {
      "text/plain": [
       "array([32.99254492])"
      ]
     },
     "execution_count": 11,
     "metadata": {},
     "output_type": "execute_result"
    }
   ],
   "source": [
    "# Importar modelo y predicción\n",
    "from model_deployment.m02_model_deployment import predict_popu\n",
    "\n",
    "duration_ms = 210000\n",
    "explicit = 0\n",
    "\n",
    "predict_popu(duration_ms,explicit)"
   ]
  },
  {
   "cell_type": "markdown",
   "metadata": {},
   "source": [
    "### Disponibilizar modelo con Flask"
   ]
  },
  {
   "cell_type": "code",
   "execution_count": 12,
   "metadata": {},
   "outputs": [],
   "source": [
    "# Importación librerías\n",
    "from flask import Flask\n",
    "from flask_restx import Api, Resource, fields"
   ]
  },
  {
   "cell_type": "code",
   "execution_count": 13,
   "metadata": {},
   "outputs": [],
   "source": [
    "app = Flask(__name__)\n",
    "\n",
    "# Definición API Flask\n",
    "api = Api(\n",
    "    app, \n",
    "    version='1.0', \n",
    "    title='API - prediccion de popularidad de canciones',\n",
    "    description='API que predice la pularidad de una cancion con base en su duracion y si es explicita o no')\n",
    "\n",
    "ns = api.namespace('predict', \n",
    "     description='Popularidad')\n",
    "\n",
    "# Definición argumentos o parámetros de la API\n",
    "parser = ns.parser()\n",
    "parser.add_argument(\n",
    "    'duration_ms', \n",
    "    type=int, \n",
    "    required=True, \n",
    "    help='Duración de la canción en milisegundos', \n",
    "    location='args'\n",
    ")\n",
    "parser.add_argument(\n",
    "    'explicit', \n",
    "    type=int, \n",
    "    required=True, \n",
    "    help='Indica si la canción es explícita (0 = No, 1 = Sí)', \n",
    "    location='args'\n",
    ")\n",
    "\n",
    "resource_fields = api.model('Resource', {\n",
    "    'result': fields.String,\n",
    "})"
   ]
  },
  {
   "cell_type": "code",
   "execution_count": 14,
   "metadata": {},
   "outputs": [],
   "source": [
    "# Definición de la clase para disponibilización\n",
    "@ns.route('/')\n",
    "class PopularidadApi(Resource):\n",
    "\n",
    "    @ns.doc(parser=parser)\n",
    "    @ns.marshal_with(resource_fields)\n",
    "    def get(self):\n",
    "        args = parser.parse_args()\n",
    "        duration_ms = args['duration_ms']\n",
    "        explicit = args['explicit']\n",
    "        \n",
    "        # Importar la función de predicción desde el módulo correspondiente\n",
    "        from model_deployment.m02_model_deployment import predict_popu\n",
    "\n",
    "        resultado = predict_popu(duration_ms, explicit)\n",
    "        return {\n",
    "            \"result\": str(resultado)\n",
    "        }, 200"
   ]
  },
  {
   "cell_type": "code",
   "execution_count": 15,
   "metadata": {},
   "outputs": [
    {
     "name": "stdout",
     "output_type": "stream",
     "text": [
      " * Serving Flask app '__main__'\n",
      " * Debug mode: on\n"
     ]
    },
    {
     "name": "stderr",
     "output_type": "stream",
     "text": [
      "WARNING: This is a development server. Do not use it in a production deployment. Use a production WSGI server instead.\n",
      " * Running on all addresses (0.0.0.0)\n",
      " * Running on http://127.0.0.1:5000\n",
      " * Running on http://192.168.0.15:5000\n",
      "Press CTRL+C to quit\n",
      "127.0.0.1 - - [26/Apr/2025 23:51:00] \"GET / HTTP/1.1\" 200 -\n",
      "127.0.0.1 - - [26/Apr/2025 23:51:00] \"GET /swaggerui/droid-sans.css HTTP/1.1\" 200 -\n",
      "127.0.0.1 - - [26/Apr/2025 23:51:00] \"GET /swaggerui/swagger-ui.css HTTP/1.1\" 200 -\n",
      "127.0.0.1 - - [26/Apr/2025 23:51:00] \"GET /swaggerui/swagger-ui-bundle.js HTTP/1.1\" 200 -\n",
      "127.0.0.1 - - [26/Apr/2025 23:51:00] \"GET /swaggerui/swagger-ui-standalone-preset.js HTTP/1.1\" 200 -\n",
      "127.0.0.1 - - [26/Apr/2025 23:51:01] \"GET /swagger.json HTTP/1.1\" 200 -\n",
      "127.0.0.1 - - [26/Apr/2025 23:51:12] \"GET /predict/?duration_ms=200000&explicit=0 HTTP/1.1\" 200 -\n",
      "127.0.0.1 - - [26/Apr/2025 23:51:23] \"GET /predict/?duration_ms=210000&explicit=0 HTTP/1.1\" 200 -\n"
     ]
    }
   ],
   "source": [
    "# Ejecución de la aplicación que disponibiliza el modelo de manera local en el puerto 5000\n",
    "app.run(debug=True, use_reloader=False, host='0.0.0.0', port=5000)"
   ]
  }
 ],
 "metadata": {
  "colab": {
   "provenance": []
  },
  "kernelspec": {
   "display_name": "base",
   "language": "python",
   "name": "python3"
  },
  "language_info": {
   "codemirror_mode": {
    "name": "ipython",
    "version": 3
   },
   "file_extension": ".py",
   "mimetype": "text/x-python",
   "name": "python",
   "nbconvert_exporter": "python",
   "pygments_lexer": "ipython3",
   "version": "3.12.3"
  }
 },
 "nbformat": 4,
 "nbformat_minor": 4
}
